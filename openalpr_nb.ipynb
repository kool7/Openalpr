{
 "cells": [
  {
   "cell_type": "code",
   "execution_count": 1,
   "metadata": {},
   "outputs": [],
   "source": [
    "import numpy as np\n",
    "import cv2\n",
    "from openalpr import Alpr\n",
    "import sys\n",
    "import os\n",
    "import shutil\n",
    "import csv\n",
    "from tqdm import tqdm"
   ]
  },
  {
   "cell_type": "code",
   "execution_count": 2,
   "metadata": {},
   "outputs": [],
   "source": [
    "WINDOW_NAME  = 'openalpr'\n",
    "\n",
    "alpr = Alpr('us', 'D:/openalpr_project/openalpr_64/openalpr.conf', 'D:/openalpr_project/openalpr_64/runtime_data')\n",
    "\n",
    "if not alpr.is_loaded():\n",
    "    print('Error loading OpenALPR')\n",
    "    sys.exit(1)\n",
    "    \n",
    "alpr.set_top_n(3)"
   ]
  },
  {
   "cell_type": "code",
   "execution_count": 3,
   "metadata": {},
   "outputs": [],
   "source": [
    "def get_max(result_dict):     \n",
    "    \n",
    "    if len(result_dict['confidence']) > 0:\n",
    "        max_val = result_dict['confidence'][0]\n",
    "        index = 0\n",
    "    \n",
    "        for i, conf in enumerate(result_dict['confidence']):\n",
    "                if conf > max_val:\n",
    "                    max_val = conf\n",
    "                    index = i\n",
    "                    \n",
    "        return max_val, result_dict['plate'][index] \n",
    "    \n",
    "    else:\n",
    "        return 'No plate detected'"
   ]
  },
  {
   "cell_type": "code",
   "execution_count": 4,
   "metadata": {},
   "outputs": [],
   "source": [
    "def get_license_plate(path_to_video, frame_skip = 1):\n",
    "    cap = cv2.VideoCapture(path_to_video)\n",
    "    \n",
    "    if not cap.isOpened():\n",
    "        cap.open(path_to_video)\n",
    "        alpr.unload()\n",
    "        sys.exit('Failed to open video file!')\n",
    "        \n",
    "    cv2.namedWindow(WINDOW_NAME, cv2.WINDOW_AUTOSIZE)\n",
    "    cv2.setWindowTitle(WINDOW_NAME, 'OpenALPR video test')\n",
    "    \n",
    "    \n",
    "    result_dict = {'confidence' : [], 'plate' : []}\n",
    "    \n",
    "    _frame_number = 0\n",
    "    while True:\n",
    "        ret_val, frame = cap.read()\n",
    "\n",
    "        if not ret_val:\n",
    "            break\n",
    "\n",
    "        ret_val, enc = cv2.imencode(\"*.bmp\", frame)\n",
    "\n",
    "        _frame_number += 1\n",
    "\n",
    "        if _frame_number % frame_skip != 0:\n",
    "            continue\n",
    "\n",
    "        #     cv2.imshow(WINDOW_NAME, frame)\n",
    "\n",
    "        results = alpr.recognize_array(bytes(bytearray(enc)))\n",
    "\n",
    "        if len(results['results']) > 0:\n",
    "            result_dict['confidence'].append(results['results'][0]['confidence'])\n",
    "            result_dict['plate'].append(results['results'][0]['plate'])\n",
    "\n",
    "        if cv2.waitKey(1) == 27:\n",
    "            break\n",
    "\n",
    "\n",
    "#     for key, value in result_dict.items():\n",
    "#         print(key, ' : ', value)\n",
    "        \n",
    "    return get_max(result_dict)"
   ]
  },
  {
   "cell_type": "code",
   "execution_count": 5,
   "metadata": {},
   "outputs": [
    {
     "ename": "SystemExit",
     "evalue": "Failed to open video file!",
     "output_type": "error",
     "traceback": [
      "An exception has occurred, use %tb to see the full traceback.\n",
      "\u001b[1;31mSystemExit\u001b[0m\u001b[1;31m:\u001b[0m Failed to open video file!\n"
     ]
    },
    {
     "name": "stderr",
     "output_type": "stream",
     "text": [
      "D:\\Anaconda\\lib\\site-packages\\IPython\\core\\interactiveshell.py:3327: UserWarning: To exit: use 'exit', 'quit', or Ctrl-D.\n",
      "  warn(\"To exit: use 'exit', 'quit', or Ctrl-D.\", stacklevel=1)\n"
     ]
    }
   ],
   "source": [
    "path_to_video = 'D:\\openalpr_project\\final_dir\\plate'\n",
    "\n",
    "get_license_plate(path_to_video)"
   ]
  },
  {
   "cell_type": "code",
   "execution_count": 13,
   "metadata": {},
   "outputs": [],
   "source": [
    "def create_csv(columns, path_csv):\n",
    "    with open(path_csv, 'w') as csvfile:\n",
    "        csvwriter = csv.writer(csvfile)\n",
    "        csvwriter.writerow(columns)"
   ]
  },
  {
   "cell_type": "code",
   "execution_count": 14,
   "metadata": {},
   "outputs": [],
   "source": [
    "columns = ['video_file', 'plate', 'confidence', 'path']\n",
    "path_csv = 'D://openalpr_project/data.csv'\n",
    "\n",
    "# create_csv(columns, path_csv)"
   ]
  },
  {
   "cell_type": "code",
   "execution_count": 16,
   "metadata": {},
   "outputs": [
    {
     "name": "stderr",
     "output_type": "stream",
     "text": [
      "100%|██████████████████████████████████████████████████████████████████████████████| 281/281 [4:18:26<00:00, 55.18s/it]\n"
     ]
    }
   ],
   "source": [
    "path_to_videos_dir = 'D://openalpr_project/videos/'\n",
    "videos_files = os.listdir(path_to_videos_dir)\n",
    "\n",
    "for video_file in tqdm(videos_files):\n",
    "    path_video = os.path.join(path_to_videos_dir, video_file)\n",
    "    \n",
    "    if get_license_plate(path_video) == 'No plate detected':\n",
    "        destination = 'D://openalpr_project/final_dir/no_plate/' + video_file\n",
    "        shutil.copyfile(path_video, destination)\n",
    "    else:\n",
    "        destination = 'D://openalpr_project/final_dir/plate/' + video_file\n",
    "        shutil.copyfile(path_video, destination)\n",
    "        data_of_video = [video_file, get_license_plate(path_video)[1], get_license_plate(path_video)[0], path_video]\n",
    "        \n",
    "        with open(path_csv, 'a', newline = '') as csvfile:\n",
    "            csvwriter = csv.writer(csvfile)\n",
    "            csvwriter.writerow(data_of_video)\n",
    "        "
   ]
  },
  {
   "cell_type": "code",
   "execution_count": null,
   "metadata": {},
   "outputs": [],
   "source": []
  },
  {
   "cell_type": "code",
   "execution_count": null,
   "metadata": {},
   "outputs": [],
   "source": [
    "# while(cap.isOpened()):\n",
    "#     ret, frame = cap.read()\n",
    "\n",
    "#     gray = cv2.cvtColor(frame, cv2.COLOR_BGR2GRAY)\n",
    "\n",
    "#     cv2.imshow('frame',gray)\n",
    "#     if cv2.waitKey(1) & 0xFF == ord('q'):\n",
    "#         break\n",
    "\n",
    "# cap.release()\n",
    "# cv2.destroyAllWindows()"
   ]
  },
  {
   "cell_type": "code",
   "execution_count": null,
   "metadata": {},
   "outputs": [],
   "source": [
    "cv2.destroyAllWindows()\n",
    "cap.release()\n",
    "alpr.unload()"
   ]
  },
  {
   "cell_type": "code",
   "execution_count": null,
   "metadata": {},
   "outputs": [],
   "source": []
  }
 ],
 "metadata": {
  "kernelspec": {
   "display_name": "Python 3",
   "language": "python",
   "name": "python3"
  },
  "language_info": {
   "codemirror_mode": {
    "name": "ipython",
    "version": 3
   },
   "file_extension": ".py",
   "mimetype": "text/x-python",
   "name": "python",
   "nbconvert_exporter": "python",
   "pygments_lexer": "ipython3",
   "version": "3.7.3"
  }
 },
 "nbformat": 4,
 "nbformat_minor": 2
}
